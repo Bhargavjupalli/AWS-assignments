{
 "cells": [
  {
   "cell_type": "markdown",
   "id": "b48b166a",
   "metadata": {},
   "source": [
    "# # cow bull prog as a func\n"
   ]
  },
  {
   "cell_type": "code",
   "execution_count": 3,
   "id": "c743387b",
   "metadata": {},
   "outputs": [
    {
     "name": "stdout",
     "output_type": "stream",
     "text": [
      "(4, 0)\n"
     ]
    }
   ],
   "source": [
    "def cow_bull(secret, guess):\n",
    "    cow = sum(s == g for s, g in zip(secret, guess))\n",
    "    bull = sum(g in secret for g in guess) - cow\n",
    "    return cow, bull\n",
    "\n",
    "# Example usage\n",
    "secret = \"Write\"\n",
    "guess = \"Wrote\"\n",
    "print(cow_bull(secret, guess))"
   ]
  },
  {
   "cell_type": "markdown",
   "id": "1ba43a67",
   "metadata": {},
   "source": [
    "# # write palindrome and fibo func\n"
   ]
  },
  {
   "cell_type": "code",
   "execution_count": 1,
   "id": "f957b5b7",
   "metadata": {},
   "outputs": [
    {
     "name": "stdout",
     "output_type": "stream",
     "text": [
      "[0, 1, 1, 2, 3, 5, 8, 13, 21, 34, 55, 89, 144, 233, 377]\n"
     ]
    }
   ],
   "source": [
    "def fibonacci_series(n):\n",
    "    fibo=[0,1]\n",
    "    while len(fibo) < n:\n",
    "        fibo.append(fibo[-1] + fibo[-2])\n",
    "    return fibo[:n]\n",
    "print(fibonacci_series(15))"
   ]
  },
  {
   "cell_type": "code",
   "execution_count": 4,
   "id": "1a2e640f",
   "metadata": {},
   "outputs": [
    {
     "name": "stdout",
     "output_type": "stream",
     "text": [
      "True\n",
      "False\n"
     ]
    }
   ],
   "source": [
    "def is_palindrome(s):\n",
    "    return s == s[::-1]\n",
    "\n",
    "# Example usage\n",
    "print(is_palindrome(\"madam\"))\n",
    "print(is_palindrome(\"sir\"))"
   ]
  },
  {
   "cell_type": "markdown",
   "id": "59878749",
   "metadata": {},
   "source": [
    "# # create a func to replicate range\n"
   ]
  },
  {
   "cell_type": "code",
   "execution_count": 6,
   "id": "65fc1173",
   "metadata": {},
   "outputs": [
    {
     "name": "stdout",
     "output_type": "stream",
     "text": [
      "[0, 1, 2, 3, 4, 5, 6, 7, 8, 9]\n",
      "[1, 4, 7]\n"
     ]
    }
   ],
   "source": [
    "def my_range(start, stop=None, step=1):\n",
    "    if stop is None:\n",
    "        stop = start\n",
    "        start = 0\n",
    "    return list(range(start, stop, step))\n",
    "\n",
    "# Example usage\n",
    "print(my_range(10))\n",
    "print(my_range(1, 10, 3))"
   ]
  }
 ],
 "metadata": {
  "kernelspec": {
   "display_name": "Python 3 (ipykernel)",
   "language": "python",
   "name": "python3"
  },
  "language_info": {
   "codemirror_mode": {
    "name": "ipython",
    "version": 3
   },
   "file_extension": ".py",
   "mimetype": "text/x-python",
   "name": "python",
   "nbconvert_exporter": "python",
   "pygments_lexer": "ipython3",
   "version": "3.10.6"
  }
 },
 "nbformat": 4,
 "nbformat_minor": 5
}
