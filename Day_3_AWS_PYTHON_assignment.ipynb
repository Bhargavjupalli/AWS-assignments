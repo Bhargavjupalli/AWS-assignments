{
 "cells": [
  {
   "cell_type": "markdown",
   "id": "b02e40a0",
   "metadata": {},
   "source": [
    "# Write Examples code for concatenation\n"
   ]
  },
  {
   "cell_type": "code",
   "execution_count": 1,
   "id": "66341ca7",
   "metadata": {},
   "outputs": [
    {
     "name": "stdout",
     "output_type": "stream",
     "text": [
      "Hello Friends\n"
     ]
    }
   ],
   "source": [
    "# Concatenating two strings\n",
    "str1 = \"Hello\"\n",
    "str2 = \"Friends\"\n",
    "result = str1 + \" \" + str2\n",
    "print(result)"
   ]
  },
  {
   "cell_type": "code",
   "execution_count": 3,
   "id": "acb92331",
   "metadata": {},
   "outputs": [
    {
     "name": "stdout",
     "output_type": "stream",
     "text": [
      "[2, 4, 6, 1, 3, 5]\n"
     ]
    }
   ],
   "source": [
    "# Concatenating two lists\n",
    "even = [2, 4, 6]\n",
    "odd = [1, 3, 5]\n",
    "result = even + odd\n",
    "print(result)\n"
   ]
  },
  {
   "cell_type": "markdown",
   "id": "c94db94f",
   "metadata": {},
   "source": [
    "# Write one Examples for each formatting techniques"
   ]
  },
  {
   "cell_type": "code",
   "execution_count": 4,
   "id": "8da0d7a8",
   "metadata": {},
   "outputs": [
    {
     "name": "stdout",
     "output_type": "stream",
     "text": [
      "Formatted string: Name: Bhargav, Age: 20\n"
     ]
    }
   ],
   "source": [
    "Name=\"Bhargav\"\n",
    "age=20\n",
    "formatted_string = \"Name: %s, Age: %d\" % (Name, age)\n",
    "print(\"Formatted string:\", formatted_string)"
   ]
  },
  {
   "cell_type": "code",
   "execution_count": 5,
   "id": "2156b895",
   "metadata": {},
   "outputs": [
    {
     "name": "stdout",
     "output_type": "stream",
     "text": [
      "My name is Bhargav and I am 20 years old.\n"
     ]
    }
   ],
   "source": [
    "name = \"Bhargav\"\n",
    "age = 20\n",
    "formatted_string = \"My name is {} and I am {} years old.\".format(name, age)\n",
    "print(formatted_string)"
   ]
  },
  {
   "cell_type": "code",
   "execution_count": 6,
   "id": "fa5dfb61",
   "metadata": {},
   "outputs": [
    {
     "name": "stdout",
     "output_type": "stream",
     "text": [
      "My name is Bhargav and I am 20 years old.\n"
     ]
    }
   ],
   "source": [
    "name = \"Bhargav\"\n",
    "age = 20\n",
    "formatted_string = f\"My name is {name} and I am {age} years old.\"\n",
    "print(formatted_string)"
   ]
  },
  {
   "cell_type": "markdown",
   "id": "f9b7fc94",
   "metadata": {},
   "source": [
    "# Go Through Reference site and apply various options into formatting techniques\n"
   ]
  },
  {
   "cell_type": "code",
   "execution_count": 7,
   "id": "c9934087",
   "metadata": {},
   "outputs": [
    {
     "name": "stdout",
     "output_type": "stream",
     "text": [
      "Formatted string: Name: Bhargav, Age: 20\n"
     ]
    }
   ],
   "source": [
    "from string import Template\n",
    "template = Template(\"Name: $name, Age: $age\")\n",
    "formatted_string = template.substitute(name=name, age=age)\n",
    "print(\"Formatted string:\", formatted_string)"
   ]
  },
  {
   "cell_type": "code",
   "execution_count": 8,
   "id": "20f8d851",
   "metadata": {},
   "outputs": [
    {
     "name": "stdout",
     "output_type": "stream",
     "text": [
      "Formatted string: Name: Bhargav, Age: 20\n"
     ]
    }
   ],
   "source": [
    "formatted_string = \"Name: {}, Age: {}\".format(name, age)\n",
    "print(\"Formatted string:\", formatted_string)"
   ]
  },
  {
   "cell_type": "markdown",
   "id": "993687ff",
   "metadata": {},
   "source": [
    "# Write example for each arithmetic operators\n"
   ]
  },
  {
   "cell_type": "code",
   "execution_count": 21,
   "id": "62e6b903",
   "metadata": {},
   "outputs": [],
   "source": [
    "num1=20\n",
    "num2=30"
   ]
  },
  {
   "cell_type": "code",
   "execution_count": 22,
   "id": "f4dbf01b",
   "metadata": {},
   "outputs": [
    {
     "name": "stdout",
     "output_type": "stream",
     "text": [
      "50\n"
     ]
    }
   ],
   "source": [
    "#Addition\n",
    "summ=num1+num2\n",
    "print(summ)"
   ]
  },
  {
   "cell_type": "code",
   "execution_count": 23,
   "id": "d7dc4375",
   "metadata": {},
   "outputs": [
    {
     "name": "stdout",
     "output_type": "stream",
     "text": [
      "10\n"
     ]
    }
   ],
   "source": [
    "#Subtraction\n",
    "sub=num2-num1\n",
    "print(sub)"
   ]
  },
  {
   "cell_type": "code",
   "execution_count": 24,
   "id": "1a1c898e",
   "metadata": {},
   "outputs": [
    {
     "name": "stdout",
     "output_type": "stream",
     "text": [
      "600\n"
     ]
    }
   ],
   "source": [
    "#Multiplication\n",
    "mul=num1*num2\n",
    "print(mul)"
   ]
  },
  {
   "cell_type": "code",
   "execution_count": 25,
   "id": "e1db0e48",
   "metadata": {},
   "outputs": [
    {
     "name": "stdout",
     "output_type": "stream",
     "text": [
      "1\n"
     ]
    }
   ],
   "source": [
    "#Division\n",
    "div=num2//num1\n",
    "print(div)"
   ]
  },
  {
   "cell_type": "code",
   "execution_count": 26,
   "id": "b61d6ffc",
   "metadata": {},
   "outputs": [
    {
     "name": "stdout",
     "output_type": "stream",
     "text": [
      "20\n"
     ]
    }
   ],
   "source": [
    "#Modulus\n",
    "mod=num1%num2\n",
    "print(mod)"
   ]
  },
  {
   "cell_type": "code",
   "execution_count": 27,
   "id": "d349c808",
   "metadata": {},
   "outputs": [
    {
     "name": "stdout",
     "output_type": "stream",
     "text": [
      "1073741824000000000000000000000000000000\n"
     ]
    }
   ],
   "source": [
    "#Exponentiation\n",
    "exp=num1**num2\n",
    "print(exp)"
   ]
  },
  {
   "cell_type": "code",
   "execution_count": 28,
   "id": "14b77320",
   "metadata": {},
   "outputs": [
    {
     "name": "stdout",
     "output_type": "stream",
     "text": [
      "0\n"
     ]
    }
   ],
   "source": [
    "#floor Division\n",
    "floor_division=num1//num2\n",
    "print(floor_division)"
   ]
  },
  {
   "cell_type": "markdown",
   "id": "91078e16",
   "metadata": {},
   "source": [
    "# Write Example for assignment operators (except: = & +=)"
   ]
  },
  {
   "cell_type": "code",
   "execution_count": 29,
   "id": "e3e448cb",
   "metadata": {},
   "outputs": [],
   "source": [
    "num=9"
   ]
  },
  {
   "cell_type": "code",
   "execution_count": 30,
   "id": "8939da5a",
   "metadata": {},
   "outputs": [
    {
     "name": "stdout",
     "output_type": "stream",
     "text": [
      "After subtraction assignment:  7\n"
     ]
    }
   ],
   "source": [
    "num-=2\n",
    "print(\"After subtraction assignment: \",num)"
   ]
  },
  {
   "cell_type": "code",
   "execution_count": 31,
   "id": "94936aa4",
   "metadata": {},
   "outputs": [
    {
     "name": "stdout",
     "output_type": "stream",
     "text": [
      "After multiplication assignment: 14\n"
     ]
    }
   ],
   "source": [
    "num*=2\n",
    "print(\"After multiplication assignment:\", num)\n"
   ]
  },
  {
   "cell_type": "code",
   "execution_count": 33,
   "id": "97b77c97",
   "metadata": {},
   "outputs": [
    {
     "name": "stdout",
     "output_type": "stream",
     "text": [
      "After division assignment: 0.5185185185185185\n"
     ]
    }
   ],
   "source": [
    "num/=3\n",
    "print(\"After division assignment:\", num)\n"
   ]
  },
  {
   "cell_type": "code",
   "execution_count": null,
   "id": "9c6a4f6f",
   "metadata": {},
   "outputs": [],
   "source": []
  }
 ],
 "metadata": {
  "kernelspec": {
   "display_name": "Python 3 (ipykernel)",
   "language": "python",
   "name": "python3"
  },
  "language_info": {
   "codemirror_mode": {
    "name": "ipython",
    "version": 3
   },
   "file_extension": ".py",
   "mimetype": "text/x-python",
   "name": "python",
   "nbconvert_exporter": "python",
   "pygments_lexer": "ipython3",
   "version": "3.10.6"
  }
 },
 "nbformat": 4,
 "nbformat_minor": 5
}
